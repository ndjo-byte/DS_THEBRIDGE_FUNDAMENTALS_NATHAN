{
 "cells": [
  {
   "cell_type": "markdown",
   "metadata": {
    "id": "9l3HMgm6RWxF"
   },
   "source": [
    "![TheBridge_logo_RGB_color.jpg](attachment:TheBridge_logo_RGB_color.jpg)"
   ]
  },
  {
   "cell_type": "markdown",
   "metadata": {
    "id": "RGg9iWpoRWxG"
   },
   "source": [
    "![ejercicios.png](attachment:ejercicios.png)"
   ]
  },
  {
   "cell_type": "markdown",
   "metadata": {
    "id": "AyOlWS2nRWxH"
   },
   "source": [
    "## PRACTICA OBLIGATORIA: COLECCIONES Y FUNCIONES"
   ]
  },
  {
   "cell_type": "markdown",
   "metadata": {
    "id": "6UOgb0KVRWxH"
   },
   "source": [
    "* La práctica obligatoria de esta unidad consiste varios ejercicios de programación libre a completar sobre Colecciones y Funciones. Descarga este notebook en tu ordenador y trabaja en local.  \n",
    "* Recuerda que debes subirla a tu repositorio personal antes de la sesión en vivo para que puntúe adecuadamente y puedas participar en dicha sesión.  \n",
    "* Recuerda también que no es necesario que esté perfecta, sólo es necesario que se vea el esfuerzo.\n",
    "* Esta práctica se resolverá en la sesión en vivo correspondiente y la solución se publicará en el repo del curso."
   ]
  },
  {
   "cell_type": "markdown",
   "metadata": {
    "id": "j3yu-tEjRWxH"
   },
   "source": [
    "### Contenidos"
   ]
  },
  {
   "cell_type": "markdown",
   "metadata": {
    "id": "kO-fLH39RWxH"
   },
   "source": [
    "## Ejercicio 1\n",
    "Eleva todos los elementos de la lista al cuadrado\n",
    "> ```ejer_2 = [1,2,3,4,5]```"
   ]
  },
  {
   "cell_type": "code",
   "execution_count": 18,
   "metadata": {
    "id": "ks5l3yi7RWxH"
   },
   "outputs": [
    {
     "name": "stdout",
     "output_type": "stream",
     "text": [
      "[1, 2, 3, 4, 5]\n",
      "1\n",
      "4\n",
      "9\n",
      "16\n",
      "25\n",
      "[1, 4, 9, 16, 25]\n"
     ]
    }
   ],
   "source": [
    "#originial list \n",
    "ejer_2 = [1,2,3,4,5]\n",
    "print(ejer_2)\n",
    "\n",
    "#empty list to receive squared values \n",
    "ejer_2_squared = []\n",
    "\n",
    "for i in ejer_2:\n",
    "    #square each iteration and save to new variable: squared \n",
    "    squared = i ** 2\n",
    "    #adding the new variable to the empty list \n",
    "    ejer_2_squared.append(squared)\n",
    "    #printing each iteration\n",
    "    print(squared)\n",
    "\n",
    "#printing the new list \n",
    "print(ejer_2_squared)"
   ]
  },
  {
   "cell_type": "markdown",
   "metadata": {
    "id": "kI_Xr5oFRWxI"
   },
   "source": [
    "## Ejercicio 2\n",
    "Haz un programa que detecte todos los duplicados de un elemento en una lista:\n",
    "* Utiliza una variable duplicado para asignarle el valor del elemento del que queremos encontrar todos sus duplicados.\n",
    "* El programa debe devolver todos los índices de los elementos duplicados.\n",
    "* Aplícalo para encontrar los duplicados de \"un\", \"es\" y \"binario\" de:  \n",
    "\n",
    ">```ejer_3 = [\"Un\", \"árbol\", \"binario\", \"es\", \"una\", \"estructura\", \"de\", \"un\", \"tipo\", \"particular\", \"a\", \"veces\", \"no\", \"es\", \"ni\", \"binario\"]```\n"
   ]
  },
  {
   "cell_type": "markdown",
   "metadata": {},
   "source": [
    "### attempt number 1 \n",
    "\n",
    "**problem**\n",
    "Whilst the duplicate values are correctly identified, only the first iteration is printed of each duplicate. \n",
    "Instead, the index of the duplicate value should be printed. "
   ]
  },
  {
   "cell_type": "code",
   "execution_count": 46,
   "metadata": {
    "id": "cLY9WB7YRWxI"
   },
   "outputs": [
    {
     "name": "stdout",
     "output_type": "stream",
     "text": [
      "duplicate value detected at index 0:un\n",
      "duplicate value detected at index 2:binario\n",
      "duplicate value detected at index 3:es\n",
      "duplicate value detected at index 0:un\n",
      "duplicate value detected at index 3:es\n",
      "duplicate value detected at index 2:binario\n"
     ]
    }
   ],
   "source": [
    "# running original list \n",
    "ejer_3 = [\"Un\", \"árbol\", \"binario\", \"es\", \"una\", \"estructura\", \"de\", \"un\", \"tipo\", \"particular\", \"a\", \"veces\", \"no\", \"es\", \"ni\", \"binario\"]\n",
    "#standardising \n",
    "ejer_3_lower = [i.lower() for i in ejer_3]\n",
    "\n",
    "#iterating through each list element            \n",
    "for i in ejer_3_lower:\n",
    "    #condition to check whether there is a duplicate \n",
    "    if ejer_3_lower.count(i) > 1:\n",
    "        #printing the duplate value\n",
    "        print(f'duplicate value detected at index {ejer_3_lower.index(i)}:{i}')"
   ]
  },
  {
   "cell_type": "markdown",
   "metadata": {},
   "source": [
    "### attempt number 2 \n",
    "\n",
    "**sets** are useful when dealing with duplicates   \n",
    "**enumerate()** is useful for getting the item and its index from lists"
   ]
  },
  {
   "cell_type": "code",
   "execution_count": 90,
   "metadata": {},
   "outputs": [
    {
     "name": "stdout",
     "output_type": "stream",
     "text": [
      "Duplicate value detected: 'un' at index [0, 7]\n",
      "Duplicate value detected: 'es' at index [3, 13]\n",
      "Duplicate value detected: 'binario' at index [2, 15]\n"
     ]
    }
   ],
   "source": [
    "ejer_3 = [\"Un\", \"árbol\", \"binario\", \"es\", \"una\", \"estructura\", \"de\", \"un\", \"tipo\", \"particular\", \"a\", \"veces\", \"no\", \"es\", \"ni\", \"binario\"]\n",
    "#standardising \n",
    "ejer_3_lower = [i.lower() for i in ejer_3]\n",
    "\n",
    "#sets \n",
    "seen = set()\n",
    "duplicate = set()\n",
    "\n",
    "#iterating through each list element            \n",
    "for index, item in enumerate(ejer_3_lower):\n",
    "    # if item has been seen, then add it to duplicates\n",
    "    if item in seen:\n",
    "        duplicate.add(item)\n",
    "    #otherwise, adding to duplicates is skipped, so in effect the default is that the items first go to seen.\n",
    "    seen.add(item)\n",
    "    \n",
    "# Print duplicates and their original indices\n",
    "for dup in duplicate:\n",
    "    #list comprehension for readability \n",
    "    #retrieves the index only if its corresponding value from the standardised list is (True) in the duplicate set \n",
    "    index = [i for i, x in enumerate(ejer_3_lower) if x == dup]\n",
    "    print(f'Duplicate value detected: \\'{dup}\\' at index {index}')    \n",
    "   \n"
   ]
  },
  {
   "cell_type": "markdown",
   "metadata": {
    "id": "3WrBd5QaRWxI"
   },
   "source": [
    "## Ejercicio 3\n",
    "1. ¿Cuántas veces se repite el 3 en la siguiente tupla?\n",
    "2. Crea una tupla nueva con los elementos desde la posicion 5 a la 10.\n",
    "3. ¿Cuántos elementos tiene la tupla `ejer_3`?\n",
    "> ```ejer_3 = (3, 20, 3, 47, 19, 3, 29, 45, 67, 78, 90, 3, 3, 5, 2, 4, 7, 9, 4, 2, 4, 3, 3, 4, 6, 7)```"
   ]
  },
  {
   "cell_type": "code",
   "execution_count": 95,
   "metadata": {
    "id": "bkv_R5LYRWxI"
   },
   "outputs": [
    {
     "name": "stdout",
     "output_type": "stream",
     "text": [
      "7\n",
      "(3, 29, 45, 67, 78, 90)\n",
      "26\n"
     ]
    }
   ],
   "source": [
    "ejer_3 = (3, 20, 3, 47, 19, 3, 29, 45, 67, 78, 90, 3, 3, 5, 2, 4, 7, 9, 4, 2, 4, 3, 3, 4, 6, 7)\n",
    "#¿Cuántas veces se repite el 3 en la siguiente tupla?\n",
    "count = 0\n",
    "\n",
    "for i in ejer_3:\n",
    "    if i == 3: \n",
    "        count +=1 \n",
    "print(count)\n",
    "\n",
    "#Crea una tupla nueva con los elementos desde la posicion 5 a la 10.\n",
    "nueva_tupla = ejer_3[5:11]\n",
    "print(nueva_tupla)\n",
    "\n",
    "#¿Cuántos elementos tiene la tupla ejer_3?\n",
    "ejer3_length = len(ejer_3)\n",
    "print(ejer3_length)"
   ]
  },
  {
   "cell_type": "markdown",
   "metadata": {
    "id": "6g8Y54AeRWxI"
   },
   "source": [
    "## Ejercicio 4\n",
    "Comprueba si el numero 60 esta en la tupla del ejercicio 3"
   ]
  },
  {
   "cell_type": "code",
   "execution_count": 105,
   "metadata": {
    "id": "F8VTEZonRWxI"
   },
   "outputs": [
    {
     "name": "stdout",
     "output_type": "stream",
     "text": [
      "0\n",
      "False\n"
     ]
    }
   ],
   "source": [
    "number_60 = ejer_3.count(60)\n",
    "print(number_60)\n",
    "\n",
    "# simpler and more efficient method using 'in'. This works with lists, too. \n",
    "exists = 60 in ejer_3\n",
    "print(exists)\n"
   ]
  },
  {
   "cell_type": "markdown",
   "metadata": {
    "id": "y0fg-ZA6RWxI"
   },
   "source": [
    "## Ejercicio 5\n",
    "1. Convierte la tupla del ejercicio 3 en una lista\n",
    "2. Convierte la tupla del ejercicio 3 en un set\n",
    "3. Convierte la tupla del ejercicio 3 en un diccionario. Usa también los indices"
   ]
  },
  {
   "cell_type": "markdown",
   "metadata": {},
   "source": [
    "### attempt 1\n",
    "steps 1 and 2 are simple:"
   ]
  },
  {
   "cell_type": "code",
   "execution_count": 113,
   "metadata": {
    "id": "_O5hXr01RWxI"
   },
   "outputs": [
    {
     "name": "stdout",
     "output_type": "stream",
     "text": [
      "[3, 20, 3, 47, 19, 3, 29, 45, 67, 78, 90, 3, 3, 5, 2, 4, 7, 9, 4, 2, 4, 3, 3, 4, 6, 7] <class 'list'>\n",
      "{2, 3, 67, 5, 4, 7, 6, 9, 45, 78, 47, 19, 20, 90, 29} <class 'set'>\n"
     ]
    }
   ],
   "source": [
    "#1. Convierte la tupla del ejercicio 3 en una lista\n",
    "ejer3_list = list(ejer_3)\n",
    "print(ejer3_list, type(ejer3_list))\n",
    "\n",
    "#2. Convierte la tupla del ejercicio 3 en un set\n",
    "ejer3_set = set(ejer_3)\n",
    "print(ejer3_set, type(ejer3_set))\n"
   ]
  },
  {
   "cell_type": "markdown",
   "metadata": {},
   "source": [
    "### attempt 2 \n",
    "Step 3 is difficult becuase there is not inherent key:value structure in the tuple: the tuple is 'flat'.   \n",
    "Therefore, a structure needs to be mapped using **{}**, *looping*, and **enumerate()**.  \n",
    "The index of each value in the , taken using enumerate(), is given as the key of each value in the resulting dictionary. \n"
   ]
  },
  {
   "cell_type": "code",
   "execution_count": 122,
   "metadata": {},
   "outputs": [
    {
     "name": "stdout",
     "output_type": "stream",
     "text": [
      "{0: 3, 1: 20, 2: 3, 3: 47, 4: 19, 5: 3, 6: 29, 7: 45, 8: 67, 9: 78, 10: 90, 11: 3, 12: 3, 13: 5, 14: 2, 15: 4, 16: 7, 17: 9, 18: 4, 19: 2, 20: 4, 21: 3, 22: 3, 23: 4, 24: 6, 25: 7}\n"
     ]
    }
   ],
   "source": [
    "#3. Convierte la tupla del ejercicio 3 en un diccionario. Usa también los indices\n",
    "ejer3_dict = {i:value for i, value in enumerate(ejer_3)}\n",
    "print(ejer3_dict)\n"
   ]
  },
  {
   "cell_type": "markdown",
   "metadata": {},
   "source": [
    "#### (imperfect) alternative \n",
    "If, instead of auto-generating the keys based on the index, I wanted to create a key:value relationship based on adjacent pairs,\n",
    "I would do the following using **zip()** and **slicing** *with defined steps* i.e. start:stop:step"
   ]
  },
  {
   "cell_type": "code",
   "execution_count": 137,
   "metadata": {},
   "outputs": [
    {
     "name": "stdout",
     "output_type": "stream",
     "text": [
      "{3: 4, 19: 3, 29: 45, 67: 78, 90: 3, 2: 4, 7: 9, 4: 3, 6: 7}\n"
     ]
    }
   ],
   "source": [
    "## HOWEVER, dictionaries can only accept unique key values, so the outcome is not as desired i.e. duplicates are removed. \n",
    "\n",
    "ejer3_dict = dict(zip(ejer_3[::2],ejer_3[1::2]))\n",
    "print(ejer3_dict)"
   ]
  },
  {
   "cell_type": "markdown",
   "metadata": {
    "id": "eOdWWbxvRWxJ"
   },
   "source": [
    "## Ejercicio 6\n",
    "Multiplica todos los valores del diccionario\n",
    "> ```ejer_6 = {1: 11, 2: 22, 3: 33, 4: 44, 5: 55}```"
   ]
  },
  {
   "cell_type": "code",
   "execution_count": 163,
   "metadata": {
    "id": "KcuByovKRWxJ"
   },
   "outputs": [
    {
     "name": "stdout",
     "output_type": "stream",
     "text": [
      "[11, 44, 99, 176, 275]\n"
     ]
    }
   ],
   "source": [
    "#define ejer_6 dictionary\n",
    "ejer_6 = {1: 11, 2: 22, 3: 33, 4: 44, 5: 55}\n",
    "multiply = []\n",
    "\n",
    "#iterate through each value \n",
    "for x, y in ejer_6.items():\n",
    "    #multiply each value by its key (I presume that this is what the question is asking)\n",
    "    result = x * y\n",
    "    #add each result to the list previously created, 'multiply'\n",
    "    multiply.append(result)\n",
    "print(multiply)\n",
    "\n",
    "    "
   ]
  },
  {
   "cell_type": "markdown",
   "metadata": {
    "id": "W7TUSaKRRWxJ"
   },
   "source": [
    "## Ejercicio 7\n",
    "\n",
    "1. Crea un diccionario que describa un libro, con los siguientes campos o claves: \"titulo\",\"autor\",\"idioma original\",\"año de publicación\".\n",
    "2. Crea un a lista, llamada librería.\n",
    "3. Añade cuatro libros a tu elección a la librería."
   ]
  },
  {
   "cell_type": "markdown",
   "metadata": {},
   "source": [
    "### attempt 1 "
   ]
  },
  {
   "cell_type": "code",
   "execution_count": 191,
   "metadata": {
    "id": "d-IMRvxRRWxJ",
    "vscode": {
     "languageId": "plaintext"
    }
   },
   "outputs": [
    {
     "name": "stdout",
     "output_type": "stream",
     "text": [
      "{'titulo': 'Dune', 'author': 'Frank Herbert', 'idioma original': 'English', 'año de publication': 1965}\n"
     ]
    }
   ],
   "source": [
    "#1. Crea un diccionario que describa un libro, con los siguientes campos o claves: \"titulo\",\"autor\",\"idioma original\",\"año de publicación\".\n",
    "description = {\n",
    "    'titulo' : None,\n",
    "    'author' : None,\n",
    "    'idioma original' : None,\n",
    "    'año de publication' : None\n",
    "}\n",
    "\n",
    "#2. Crea un a lista, llamada librería.\n",
    "libreria = []\n",
    "\n",
    "#3. Añade cuatro libros a tu elección a la librería.\n",
    "#my 4 books as 4 separate lists \n",
    "book_1 = \"Dune\", \"Frank Herbert\", \"English\", 1965\n",
    "book_2 = \"Shogun\", \"James Clavell\", \"English\", 1975\n",
    "book_3 = \"El Poeta Chileno\", \"Alejandro Zambra\", \"Spanish\", 2020\n",
    "book_4 = \"Good Omens\", \"Neil Gaiman and Terry Pratchett\", \"English\", 1990\n",
    "\n",
    "for key, value in zip(description.keys(), book_1):\n",
    "    description[key] = value\n",
    "\n",
    "print(description)\n",
    "\n",
    "\n",
    "    "
   ]
  },
  {
   "cell_type": "markdown",
   "metadata": {},
   "source": [
    "### attempt 2  \n",
    "Attempt 1 worked fine, but needs automating, so I will create a function "
   ]
  },
  {
   "cell_type": "code",
   "execution_count": 208,
   "metadata": {},
   "outputs": [
    {
     "name": "stdout",
     "output_type": "stream",
     "text": [
      "{'title': 'Dune', 'author': 'Frank Herbert', 'original_language': 'English', 'publication_year': 1965}\n",
      "{'title': 'Shogun', 'author': 'James Clavell', 'original_language': 'English', 'publication_year': 1975}\n",
      "{'title': 'El Poeta Chileno', 'author': 'Alejandro Zambra', 'original_language': 'Spanish', 'publication_year': 2020}\n",
      "{'title': 'Good Omens', 'author': 'Neil Gaiman and Terry Pratchett', 'original_language': 'English', 'publication_year': 1990}\n",
      "[{'title': 'Dune', 'author': 'Frank Herbert', 'original_language': 'English', 'publication_year': 1965}, {'title': 'Shogun', 'author': 'James Clavell', 'original_language': 'English', 'publication_year': 1975}, {'title': 'El Poeta Chileno', 'author': 'Alejandro Zambra', 'original_language': 'Spanish', 'publication_year': 2020}, {'title': 'Good Omens', 'author': 'Neil Gaiman and Terry Pratchett', 'original_language': 'English', 'publication_year': 1990}]\n"
     ]
    }
   ],
   "source": [
    "# Define a template for the book description\n",
    "book_description_template = {\n",
    "    'title': None,\n",
    "    'author': None,\n",
    "    'original_language': None,\n",
    "    'publication_year': None\n",
    "}\n",
    "\n",
    "# Define the details of the books as immutable tuples which reflects that the data is not to change. \n",
    "book1 = (\"Dune\", \"Frank Herbert\", \"English\", 1965)\n",
    "book2 = (\"Shogun\", \"James Clavell\", \"English\", 1975)\n",
    "book3 = (\"El Poeta Chileno\", \"Alejandro Zambra\", \"Spanish\", 2020)\n",
    "book4 = (\"Good Omens\", \"Neil Gaiman and Terry Pratchett\", \"English\", 1990)\n",
    "\n",
    "# Create a list containing all the books\n",
    "books_list = [book1, book2, book3, book4]\n",
    "\n",
    "# Initialise an empty list to store the book descriptions\n",
    "library = []\n",
    "\n",
    "# Function to update the book description dictionary with values from a book tuple\n",
    "def update_book_description(description_template, book_tuple):\n",
    "    for key, value in zip(description_template.keys(), book_tuple):\n",
    "        description_template[key] = value\n",
    "\n",
    "# Iterate through each book in the list and update the book description\n",
    "for book in books_list:\n",
    "    # Create a new description dictionary for each book using the template created at the start ('book_description_template')\n",
    "    book_description = book_description_template.copy()\n",
    "    # Update the description dictionary with the current book's details by calling the function created immediated above.\n",
    "    #The function takes the copy of the template and the current iteration of book in book_list as its two arguments. \n",
    "    update_book_description(book_description, book)\n",
    "    # Add the updated description to the library\n",
    "    library.append(book_description)\n",
    "\n",
    "# Print out each book description in the library\n",
    "for entry in library:\n",
    "    print(entry)\n"
   ]
  },
  {
   "cell_type": "markdown",
   "metadata": {
    "id": "glMoedjYRWxJ"
   },
   "source": [
    "## Ejercicio 8\n",
    "Modifica los valores del idioma de todos los libros del ejercicio anterior para que sea \"esperanto\"\n"
   ]
  },
  {
   "cell_type": "code",
   "execution_count": 224,
   "metadata": {
    "id": "veNdC-uwRWxJ"
   },
   "outputs": [
    {
     "name": "stdout",
     "output_type": "stream",
     "text": [
      "[{'title': 'Dune', 'author': 'Frank Herbert', 'original_language': 'esperanto', 'publication_year': 1965}, {'title': 'Shogun', 'author': 'James Clavell', 'original_language': 'esperanto', 'publication_year': 1975}, {'title': 'El Poeta Chileno', 'author': 'Alejandro Zambra', 'original_language': 'esperanto', 'publication_year': 2020}, {'title': 'Good Omens', 'author': 'Neil Gaiman and Terry Pratchett', 'original_language': 'esperanto', 'publication_year': 1990}]\n"
     ]
    }
   ],
   "source": [
    "for dictionary in library:\n",
    "    for key in dictionary.keys():\n",
    "        if key == 'original_language':\n",
    "            dictionary[key]='esperanto'\n",
    "print(library)"
   ]
  },
  {
   "cell_type": "markdown",
   "metadata": {
    "id": "DRCJG04KRWxJ"
   },
   "source": [
    "## Ejercicio 9\n",
    "1. Escribe un programa que dada una variable titulo busque los libros que hay en la librería con ese título. Si no se encuentra debe devolver el mensaje `Ese no lo tengo, ¿mola?`\n",
    "2. Pruena que el programa con uno de tus libros y con otro que no contenga tu librería."
   ]
  },
  {
   "cell_type": "code",
   "execution_count": 260,
   "metadata": {
    "id": "eWHdJi9BRWxJ"
   },
   "outputs": [
    {
     "name": "stdin",
     "output_type": "stream",
     "text": [
      "What is the title of the book that you are looking for? Shogun\n"
     ]
    },
    {
     "name": "stdout",
     "output_type": "stream",
     "text": [
      "We having it!\n"
     ]
    }
   ],
   "source": [
    "title = input('What is the title of the book that you are looking for?')\n",
    "found = False\n",
    "for dictionary in library:\n",
    "    if dictionary.get('title') == title:\n",
    "        found = True\n",
    "        break\n",
    "    else:\n",
    "        found = False\n",
    "if found:\n",
    "    print('We having it!')\n",
    "else:\n",
    "    print('Ese no lo tengo, ¿mola?')\n"
   ]
  },
  {
   "cell_type": "markdown",
   "metadata": {
    "id": "17YOpYuFRWxJ"
   },
   "source": [
    "## Ejercicio 10\n",
    "Convierte el programa del ejercicio 2 en una función al que se le pase el valor a buscar como un argumento posicional"
   ]
  },
  {
   "cell_type": "code",
   "execution_count": 264,
   "metadata": {
    "id": "xbj0LgvnRWxJ"
   },
   "outputs": [
    {
     "name": "stdout",
     "output_type": "stream",
     "text": [
      "Duplicate value detected: 'un' at index [0, 7]\n",
      "Duplicate value detected: 'es' at index [3, 13]\n",
      "Duplicate value detected: 'binario' at index [2, 15]\n"
     ]
    }
   ],
   "source": [
    "ejer_3 = [\"Un\", \"árbol\", \"binario\", \"es\", \"una\", \"estructura\", \"de\", \"un\", \"tipo\", \"particular\", \"a\", \"veces\", \"no\", \"es\", \"ni\", \"binario\"]\n",
    "\n",
    "\n",
    "#2. create function\n",
    "def find_duplicate(value):\n",
    "    seen = set()\n",
    "    duplicate = set()\n",
    "\n",
    "    #convert each word to a list element\n",
    "    if not isinstance(value, list): #checking data type \n",
    "        text_to_list = value.split()\n",
    "    else:\n",
    "        text_to_list = value\n",
    "    \n",
    "    #convert each element of the list to lower to standardise\n",
    "    standardised_list = [i.lower() if isinstance(i, str) else i for i in text_to_list]\n",
    "\n",
    "    #moving list items to seen and duplicate sets\n",
    "    for index, item in enumerate(standardised_list):\n",
    "        if item in seen:\n",
    "            duplicate.add(item) # if item has been seen, then add it to duplicates\n",
    "        seen.add(item) # add item to seen set\n",
    "\n",
    "    #printing duplicates\n",
    "    for dup in duplicate: \n",
    "        index = [i for i, x in enumerate(standardised_list) if x == dup] #retrieves the index only if its corresponding value from the standardised list is (True) in the duplicate set\n",
    "        print(f'Duplicate value detected: \\'{dup}\\' at index {index}')   \n",
    "\n",
    "find_duplicate(ejer_3)\n",
    "        "
   ]
  },
  {
   "cell_type": "markdown",
   "metadata": {
    "id": "xZ-sWJxPRWxJ"
   },
   "source": [
    "## Ejercicio 11\n",
    "Convierte el programa del ejercicio 9 en una función al que se le pasen como argumentos la librería, posicional, y el título, argumento keyword con valor \"ninguno\", por defecto."
   ]
  },
  {
   "cell_type": "code",
   "execution_count": 274,
   "metadata": {
    "id": "4-JrsMdNRWxK"
   },
   "outputs": [
    {
     "data": {
      "text/plain": [
       "True"
      ]
     },
     "execution_count": 274,
     "metadata": {},
     "output_type": "execute_result"
    }
   ],
   "source": [
    "\n",
    "def search_library(libary, title='nothing'):\n",
    "    found = False\n",
    "    for dictionary in library:\n",
    "        if dictionary.get('title') == title:\n",
    "            found = True\n",
    "            break\n",
    "        else:\n",
    "            found = False\n",
    "    return found \n",
    "\n",
    "search_library(library, title='Shogun')"
   ]
  },
  {
   "cell_type": "markdown",
   "metadata": {
    "id": "FtJir95QRWxK"
   },
   "source": [
    "## Ejercicio 12\n",
    "Solicitar al usuario que ingrese su dirección email. Imprimir un mensaje indicando si la dirección es válida o no, valiéndose de una función para decidirlo. Una dirección se considerará válida si contiene el símbolo \"@\"."
   ]
  },
  {
   "cell_type": "code",
   "execution_count": 298,
   "metadata": {
    "id": "sk852IZ8RWxK"
   },
   "outputs": [
    {
     "name": "stdin",
     "output_type": "stream",
     "text": [
      "Please input your intended email address to verify its validity: jonesn.96@gmail.com\n"
     ]
    },
    {
     "name": "stdout",
     "output_type": "stream",
     "text": [
      "Your email address is valid\n"
     ]
    }
   ],
   "source": [
    "email = input('Please input your intended email address to verify its validity:')\n",
    "\n",
    "def validity_check(email):\n",
    "    valid = False \n",
    "    if '@' in email:\n",
    "        valid = True\n",
    "    return valid        \n",
    "\n",
    "validity = validity_check(email)\n",
    "\n",
    "if validity: # if validity == True\n",
    "    print('Your email address is valid')\n",
    "else:\n",
    "    print('Your email address is not valid')\n",
    "\n",
    "\n"
   ]
  },
  {
   "cell_type": "markdown",
   "metadata": {
    "id": "Kw1MWBwBRWxK"
   },
   "source": [
    "## Ejercicio 13\n",
    "Escribe una función que compruebe si un DNI es válido, devolviendo `True` en caso afirmativo.  \n",
    "En primer lugar, el DNI debe tener entre 7 y 8 dígitos numéricos.  \n",
    "Para saber si la letra del DNI es correcta puedes utilizar el siguiente fragmento de código:\n",
    ">```Python\n",
    ">DNI= 55555555\n",
    ">palabra='TRWAGMYFPDXBNJZSQVHLCKE'\n",
    ">print('La letra del DNI es: ', palabra[DNI%23])\n",
    ">````\n"
   ]
  },
  {
   "cell_type": "code",
   "execution_count": 324,
   "metadata": {
    "id": "F5Z9rSHqRWxK"
   },
   "outputs": [
    {
     "name": "stdout",
     "output_type": "stream",
     "text": [
      "True\n"
     ]
    }
   ],
   "source": [
    "DNI= 55555578\n",
    "\n",
    "def dni_check(dni):\n",
    "    valid = False \n",
    "    number_digit_count = 0 \n",
    "    dni_string = str(dni)\n",
    "    for i in dni_string:\n",
    "        if i.isnumeric():\n",
    "            number_digit_count += 1 \n",
    "    if number_digit_count >= 7 and number_digit_count <= 8:\n",
    "        valid = True\n",
    "    return valid\n",
    "\n",
    "dni_validity = dni_check(DNI)\n",
    "print(dni_validity)"
   ]
  }
 ],
 "metadata": {
  "colab": {
   "provenance": []
  },
  "kernelspec": {
   "display_name": "Python 3 (ipykernel)",
   "language": "python",
   "name": "python3"
  },
  "language_info": {
   "codemirror_mode": {
    "name": "ipython",
    "version": 3
   },
   "file_extension": ".py",
   "mimetype": "text/x-python",
   "name": "python",
   "nbconvert_exporter": "python",
   "pygments_lexer": "ipython3",
   "version": "3.12.4"
  }
 },
 "nbformat": 4,
 "nbformat_minor": 4
}
