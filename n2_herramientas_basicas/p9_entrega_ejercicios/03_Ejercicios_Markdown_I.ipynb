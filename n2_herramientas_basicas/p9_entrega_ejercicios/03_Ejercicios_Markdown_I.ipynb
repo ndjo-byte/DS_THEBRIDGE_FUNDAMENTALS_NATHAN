{
 "cells": [
  {
   "cell_type": "markdown",
   "id": "59ec229f",
   "metadata": {
    "id": "59ec229f"
   },
   "source": [
    "<img src=\"./img/TheBridge_logo_RGB_color.jpg\" width = 500>"
   ]
  },
  {
   "cell_type": "markdown",
   "id": "30a2c01b",
   "metadata": {
    "id": "30a2c01b"
   },
   "source": [
    "# EJERCICIOS MARKDOWN (I)"
   ]
  },
  {
   "cell_type": "markdown",
   "id": "e165fb0c",
   "metadata": {
    "id": "e165fb0c"
   },
   "source": [
    "Aquí tienes cinco sencillos ejercicios para practicar lo aprendido en la primera sesión de Markdown. Utiliza las celdas que hay debajo dec cada enunciado y recuerda convertirlas a Markdown primero ;-)"
   ]
  },
  {
   "cell_type": "markdown",
   "id": "5f74096f",
   "metadata": {
    "id": "5f74096f"
   },
   "source": [
    "\n",
    "\n",
    "### Ejercicio 1: Cabeceras\n",
    "Crea las siguientes cabeceras:\n",
    "\n",
    "# 1. Una cabecera de nivel 1 con el texto \"Ciencia de Datos\".\n",
    "## 2. Una cabecera de nivel 2 con el texto \"Introducción\".\n",
    "### 3. Una cabecera de nivel 3 con el texto \"Herramientas\"."
   ]
  },
  {
   "cell_type": "markdown",
   "id": "VMO8j7_VlfdC",
   "metadata": {
    "id": "VMO8j7_VlfdC"
   },
   "source": [
    "## Hola mundo"
   ]
  },
  {
   "cell_type": "code",
   "execution_count": null,
   "id": "b3a2fc32",
   "metadata": {
    "colab": {
     "base_uri": "https://localhost:8080/"
    },
    "executionInfo": {
     "elapsed": 25,
     "status": "ok",
     "timestamp": 1714054095082,
     "user": {
      "displayName": "Miguel Ángel Nievas Fuertes",
      "userId": "11397502732317349410"
     },
     "user_tz": -120
    },
    "id": "b3a2fc32",
    "outputId": "c83ceba0-b719-463d-b56e-056705e25824"
   },
   "outputs": [
    {
     "name": "stdout",
     "output_type": "stream",
     "text": [
      "Hola mundo\n"
     ]
    }
   ],
   "source": [
    "print(\"Hola mundo\")"
   ]
  },
  {
   "cell_type": "markdown",
   "id": "4b636168",
   "metadata": {
    "id": "4b636168"
   },
   "source": [
    "### Ejercicio 2: Estilos de texto\n",
    "Escribe una frase que contenga las siguientes características:\n",
    "\n",
    "1. La palabra \"Markdown\" en negritas.\n",
    "2. La palabra \"Jupyter\" en cursivas.\n",
    "3. La palabra \"Python\" en negritas y cursivas."
   ]
  },
  {
   "cell_type": "markdown",
   "id": "486fdc8f-dd96-4f10-9524-1a81b445e35e",
   "metadata": {
    "id": "b0fd666e"
   },
   "source": [
    "**Markdown**\n",
    "*Jupyter*\n",
    "***Python***"
   ]
  },
  {
   "cell_type": "markdown",
   "id": "61fd2979",
   "metadata": {
    "id": "61fd2979"
   },
   "source": [
    "### Ejercicio 3: Resaltados y HTML\n",
    "Crea una línea que contenga:\n",
    "\n",
    "1. La palabra \"resaltado\" con un fondo amarillo usando Markdown.\n",
    "2. La palabra \"color\" en azul usando HTML.\n",
    "\n",
    "Para este ejercicio tendrás que buscar un poco más en internet, venga que tú puedes."
   ]
  },
  {
   "cell_type": "markdown",
   "id": "53f84255-ac22-4dd9-b939-82dff71ec52a",
   "metadata": {
    "id": "7aa81d0f"
   },
   "source": [
    "´resaltado´  \n",
    "<span style=\"color:blue\">color, using span style = color:blue</span>  \n",
    "<span style=\"font-size:20px\">This text is 20 pixels tall.</span>  \n",
    "<span style=\"font-weight:bold\">This text is bold, using 'font-weight'.</span>  \n",
    "<span style=\"font-weight:lighter\">This text is lighter, also using 'font-weight'.</span>  \n",
    "<span style=\"font-style:italic\">This text is italic, using 'font-style'.</span>  \n",
    "<span style=\"text-decoration:underline\">This text is underlined, using 'text-decoration:underline'.</span>  \n",
    "<span style=\"text-decoration:line-through\">This text has a line through it, also using 'text-decoration:line-through'.</span>  \n",
    "<span style=\"background-color:yellow\">This text has a yellow background, using 'background-color:yellow'.</span>  \n",
    "<div style=\"padding:10px; background-color:lightblue\">This text has padding around it.</div>  \n",
    "<div style=\"margin:10px; background-color:lightgreen\">This text has a margin around it.</div>  \n",
    "<span style=\"border: 1px solid black; padding: 2px\">This text has a border.</span>  \n",
    "<span style=\"text-transform:uppercase\">This text is uppercase.</span>  \n",
    "<span style=\"text-transform:lowercase\">THIS TEXT IS LOWERCASE.</span>  \n",
    "<span style=\"text-transform:capitalize\">this text is capitalized.</span>  \n",
    "<span style=\"line-height:2\">This text has double line spacing.</span>  \n",
    "<span style=\"font-family:'Courier New', Courier, monospace\">This text uses the Courier New font.</span>  \n",
    "<span style=\"color:white; background-color:black; font-size:18px; padding:5px; border-radius:5px\">\n",
    "This text has multiple styles applied, using ';' to separate mulitple style rules.\n",
    "</span>  \n",
    "\n",
    "\n",
    "\n",
    "\n",
    "\n"
   ]
  },
  {
   "cell_type": "markdown",
   "id": "a91386ca",
   "metadata": {
    "id": "a91386ca"
   },
   "source": [
    "### Ejercicio 4: Citas\n",
    "Incluye la siguiente cita:\n",
    "\n",
    "> La Ciencia de Datos es el petróleo del siglo XXI.\n",
    "\n",
    "En uno y dos niveles de cita"
   ]
  },
  {
   "cell_type": "markdown",
   "id": "1a6a941d-f3af-43b0-99eb-aa800d9e5a71",
   "metadata": {
    "id": "97aca4a0"
   },
   "source": [
    "> La Ciencia de Datos es el petóleo del sigo XXI.\n",
    ">> La Ciencia de Datos es el petóleo del sigo XXI."
   ]
  },
  {
   "cell_type": "markdown",
   "id": "35f0595a",
   "metadata": {
    "id": "35f0595a"
   },
   "source": [
    "### Ejercicio 5: Combinando todo\n",
    "Crea un texto que combine lo siguiente:\n",
    "\n",
    "1. Una cabecera de nivel 2 con el texto \"Curso de Markdown\".\n",
    "2. Una frase que contenga la palabra \"importante\" en negritas.\n",
    "3. Una cita que diga: \"Aprender es crecer\".\n",
    "4. La palabra \"ejemplo\" en cursivas y con un fondo verde usando HTML.\n",
    "\n",
    "Nota: Si no has sido capaz de encontrar como dar color de fondo usando HTML quizás <span style=\"background-color:yellow\">*tienes que buscar más cerca de ti*</span>\n"
   ]
  },
  {
   "cell_type": "markdown",
   "id": "0faee17a-70ca-488d-ba6f-3ecb76b49b7e",
   "metadata": {
    "id": "919b170c"
   },
   "source": [
    "## Curso de Markdown\n",
    "Este curso es bastante *importante*\n",
    "> Aprender es crecer.\n",
    "\n",
    "<span style=\"background-color:yellow\">Ejemplo.</span>"
   ]
  }
 ],
 "metadata": {
  "colab": {
   "provenance": []
  },
  "kernelspec": {
   "display_name": "Python 3 (ipykernel)",
   "language": "python",
   "name": "python3"
  },
  "language_info": {
   "codemirror_mode": {
    "name": "ipython",
    "version": 3
   },
   "file_extension": ".py",
   "mimetype": "text/x-python",
   "name": "python",
   "nbconvert_exporter": "python",
   "pygments_lexer": "ipython3",
   "version": "3.12.4"
  }
 },
 "nbformat": 4,
 "nbformat_minor": 5
}
