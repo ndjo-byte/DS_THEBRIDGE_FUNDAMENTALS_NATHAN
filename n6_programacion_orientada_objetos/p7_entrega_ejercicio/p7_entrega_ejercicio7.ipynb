{
 "cells": [
  {
   "cell_type": "markdown",
   "metadata": {
    "id": "vigJnuAMSU4x"
   },
   "source": [
    "![TheBridge_logo_RGB_color.jpg](attachment:TheBridge_logo_RGB_color.jpg)"
   ]
  },
  {
   "cell_type": "markdown",
   "metadata": {
    "id": "2xmnwM17SU4y"
   },
   "source": [
    "![ejercicios.png](attachment:ejercicios.png)"
   ]
  },
  {
   "cell_type": "markdown",
   "metadata": {
    "id": "liorA-1ZSU4y"
   },
   "source": [
    "# Ejercicios Clases y Objetos"
   ]
  },
  {
   "cell_type": "markdown",
   "metadata": {
    "id": "5xXUz5l9SU4z"
   },
   "source": [
    "## Ejercicio 1\n",
    "Somos una empresa que tiene varias tiendas de electrodomesticos. Necesitamos un programa para manejar las tiendas, ver las ventas que han tenido, cuántos empleados hay, etc... Para ello vamos a modelizar la tienda en una clase, que tendrá las siguientes características:\n",
    "* Nombre clase: \"Tienda\"\n",
    "* Atributos comunes:\n",
    "    * Tipo: \"Electrodomésticos\"\n",
    "    * Abierta: True\n",
    "* Atributos propios de cada tienda:\n",
    "    * Nombre - String\n",
    "    * Dirección - String\n",
    "    * Número de empleados - int\n",
    "    * Ventas ultimos 3 meses - Lista de 3 numeros\n",
    "* Método para calcular las ventas de todos los meses, que devuelva un numero con todas las ventas.\n",
    "* Método que calcula la media de ventas de los ultimos meses, por empleado\n",
    "* Método que devuelve en un string el nombre de la tienda, junto con su dirección.\n",
    "* Método que obtiene las ventas del último mes.\n",
    "* Método para dar una proyección de las ventas en caso de haber invertido X dinero en marketing en esa tienda. Siendo X el parámetro de entrada. Si X es menor de 1000, las ventas de los ultimos 3 meses hubiesen sido de (1.2 x ventas), si es mayor o igual de 1000, las ventas hubiesen sido de (1.5 x venta). El método reescribe el atributo de ventas en los últimos 3 meses, y además devuelve las ventas con el aumento.\n",
    "\n",
    "Se pide:\n",
    "1. Implementar la clase \"Tienda\"\n",
    "2. Crear tres tiendas con datos inventados\n",
    "3. Comprueba en al menos una de ellas, todo lo implementado en la clase tienda (sus atributos, media de ventas, ventas/empleado...)\n",
    "3. Calcular las ventas del último mes de todas las tiendas. Para ello usa el bucle `for`\n",
    "4. Imprime por pantalla los nombres de las tiendas cuya dirección lleve el string \"Avenida\"\n",
    "5. Seguro que ya has hecho este apartado... Documenta la clase :)"
   ]
  },
  {
   "cell_type": "code",
   "execution_count": 235,
   "metadata": {
    "id": "5cLQcLxfSU4z"
   },
   "outputs": [],
   "source": [
    "# 1. define class\n",
    "class Tienda():\n",
    "    #define attributes\n",
    "    def __init__(self, nombre, direccion, num_empleados, ventas_ult_3_meses, tipo = 'electrodomestica', abierta = True):\n",
    "        self.nombre = nombre\n",
    "        self.direccion = direccion\n",
    "        self.num_empleados = num_empleados\n",
    "        self.ventas = ventas_ult_3_meses # doubt how to ensure 3 separate integers are input as list - len[3] ?\n",
    "        self.tipo = tipo\n",
    "        self.abierta = abierta\n",
    "\n",
    "#define functions \n",
    "# 1. Método para calcular las ventas de todos los meses, que devuelva un numero con todas las ventas.\n",
    "    def total_ventas(self):\n",
    "        return sum(self.ventas)\n",
    "\n",
    "\n",
    "# 2. Método que calcula la media de ventas de los ultimos meses, por empleado\n",
    "    def avg_ventas(self):\n",
    "        return sum(self.ventas) / self.num_empleados\n",
    "        \n",
    "# 3. Método que devuelve en un string el nombre de la tienda, junto con su dirección.\n",
    "    def name_address(self):\n",
    "        return 'Nombre: ' + self.nombre + '; Direccion: ' + self.direccion\n",
    "        \n",
    "# 4. Método que obtiene las ventas del último mes.\n",
    "    def ventas_ult_mes(self):\n",
    "        return self.ventas[-1]\n",
    "\n",
    "# 5. Método que proyecta.\n",
    "    def investment_projection(self, x):\n",
    "            if x < 1000:\n",
    "                self.ventas[:] = [1.2 * v for i, v in enumerate(self.ventas)]\n",
    "            else:\n",
    "                self.ventas[:] = [1.5 * v for i, v in enumerate(self.ventas)]\n",
    "            return self.ventas\n",
    "\n",
    "    '''\n",
    "    first attempt, without list comprehension. So updating each list element individually:\n",
    "    \n",
    "    if x < 1000:\n",
    "            for i, v in enumerate(self.ventas):\n",
    "                self.ventas[i] = v * 1.2  \n",
    "        else:\n",
    "            for i, v in enumerate(self.ventas):\n",
    "                self.ventas[i] = v * 1.5  \n",
    "        return self.ventas\n",
    "    '''\n"
   ]
  },
  {
   "cell_type": "code",
   "execution_count": 242,
   "metadata": {
    "scrolled": true
   },
   "outputs": [
    {
     "name": "stdout",
     "output_type": "stream",
     "text": [
      "media markt <class 'str'>\n",
      "plz sol, madrdid <class 'str'>\n",
      "53 <class 'int'>\n",
      "[169, 196, 256] <class 'list'>\n",
      "electrodomestica <class 'str'>\n",
      "True <class 'bool'>\n"
     ]
    }
   ],
   "source": [
    "# 2. test, implementing class Tienda, and 1/3 tiendas\n",
    "media_markt = Tienda('media markt', 'plz sol, madrdid', 53, [169, 196, 256]) \n",
    "print(media_markt.nombre, type(media_markt.nombre))\n",
    "print(media_markt.direccion, type(media_markt.direccion))\n",
    "print(media_markt.num_empleados, type(media_markt.num_empleados))\n",
    "print(media_markt.ventas, type(media_markt.ventas))\n",
    "print(media_markt.tipo, type(media_markt.tipo))\n",
    "print(media_markt.abierta, type(media_markt.abierta))"
   ]
  },
  {
   "cell_type": "code",
   "execution_count": 199,
   "metadata": {},
   "outputs": [
    {
     "data": {
      "text/plain": [
       "621"
      ]
     },
     "execution_count": 199,
     "metadata": {},
     "output_type": "execute_result"
    }
   ],
   "source": [
    "# 3. test, implementing fuction no.1, total ventas\n",
    "media_markt.total_ventas()\n"
   ]
  },
  {
   "cell_type": "code",
   "execution_count": 201,
   "metadata": {},
   "outputs": [
    {
     "data": {
      "text/plain": [
       "11.716981132075471"
      ]
     },
     "execution_count": 201,
     "metadata": {},
     "output_type": "execute_result"
    }
   ],
   "source": [
    "# 3. test, implementing function no.2, avg sales by employee\n",
    "media_markt.avg_ventas()"
   ]
  },
  {
   "cell_type": "code",
   "execution_count": 203,
   "metadata": {},
   "outputs": [
    {
     "data": {
      "text/plain": [
       "'Nombre: media markt; Direccion: plz sol, madrdid'"
      ]
     },
     "execution_count": 203,
     "metadata": {},
     "output_type": "execute_result"
    }
   ],
   "source": [
    "# 3. test, implementing function no.3, name and address \n",
    "media_markt.name_address()"
   ]
  },
  {
   "cell_type": "code",
   "execution_count": 205,
   "metadata": {},
   "outputs": [
    {
     "data": {
      "text/plain": [
       "256"
      ]
     },
     "execution_count": 205,
     "metadata": {},
     "output_type": "execute_result"
    }
   ],
   "source": [
    "# 3. test, implementing function no.4 ventas del último mes \n",
    "media_markt.ventas_ult_mes()"
   ]
  },
  {
   "cell_type": "code",
   "execution_count": 244,
   "metadata": {},
   "outputs": [
    {
     "data": {
      "text/plain": [
       "[253.5, 294.0, 384.0]"
      ]
     },
     "execution_count": 244,
     "metadata": {},
     "output_type": "execute_result"
    }
   ],
   "source": [
    "# 3. test, implementing function no.5 return on investment projection \n",
    "media_markt.investment_projection(1001)"
   ]
  },
  {
   "cell_type": "code",
   "execution_count": 248,
   "metadata": {},
   "outputs": [],
   "source": [
    "# 2. creando 2 tiendas más\n",
    "\n",
    "techy = Tienda('techy', 'avenida america, 12, madrdid', 25, [25, 81, 64]) \n",
    "\n",
    "electro_mania = Tienda('electro_mania', 'calle tech, 11, madrid', 120, [225, 289, 256]) \n"
   ]
  },
  {
   "cell_type": "code",
   "execution_count": 266,
   "metadata": {},
   "outputs": [
    {
     "name": "stdout",
     "output_type": "stream",
     "text": [
      "[384.0, 64, 256]\n"
     ]
    }
   ],
   "source": [
    "# 4. Calcular las ventas del último mes de todas las tiendas. Para ello usa el bucle for\n",
    "shops = [media_markt, techy, electro_mania]\n",
    "last_month_all = [i.ventas_ult_mes() for i in shops]\n",
    "print(last_month_all)"
   ]
  },
  {
   "cell_type": "code",
   "execution_count": 280,
   "metadata": {},
   "outputs": [
    {
     "name": "stdout",
     "output_type": "stream",
     "text": [
      "Nombre: techy; Direccion: avenida america, 12, madrdid\n"
     ]
    }
   ],
   "source": [
    "# Imprime por pantalla los nombres de las tiendas cuya dirección lleve el string \"Avenida\"\n",
    "addresses = [i.name_address() for i in shops]\n",
    "for i in addresses:\n",
    "    if 'avenida' in i:\n",
    "        print(i)\n"
   ]
  },
  {
   "cell_type": "markdown",
   "metadata": {
    "id": "WEBq7EpsSU40"
   },
   "source": [
    "## Ejercicio 2\n",
    "En este ejercicio vamos a implementar una clase *Perro* en Python. La clase tiene las siguientes características:\n",
    "* Cosas que sabemos seguro que tiene un perro\n",
    "    * Tiene 4 patas\n",
    "    * 2 orejas\n",
    "    * 2 ojos\n",
    "    * Una velocidad de 0. Por defecto, el perro está parado\n",
    "* Cuando se inicialice:\n",
    "    * El perro será de una determinada raza\n",
    "    * Por defecto tendrá pelo \"Marrón\", a no ser que se diga lo contrario.\n",
    "    * Por defecto no tendrá dueño, a no ser que se diga lo contrario.\n",
    "    \n",
    "* Dispondrá también de un método llamado andar, que tiene un argumento de entrada (aumento_velocidad). Este valor se le sumará a la velocidad que ya llevaba el perro.\n",
    "* Necesita otro método (parar), donde pondremos la velocidad a 0.\n",
    "* Otro método llamado \"ladrar\", que tendrá un argumento de entrada, y la salida será el siguiente string: \"GUAU!\" + el argumento de entrada.\n",
    "\n",
    "\n",
    "Se pide:\n",
    "* Implementa la clase *Perro*\n",
    "* Crea un objeto de tipo *Perro*, sin dueño\n",
    "* Comprueba que están bien todos sus atributos\n",
    "* Prueba que ande, y comprueba su velocidad\n",
    "* Páralo\n",
    "* Documenta la clase *Perro*"
   ]
  },
  {
   "cell_type": "code",
   "execution_count": 322,
   "metadata": {
    "id": "DpEWvbwGSU40"
   },
   "outputs": [],
   "source": [
    "# Implementa la clase Perro\n",
    "class Perro():\n",
    "    def __init__(self, raza, pelo = 'marron', duegno = False, patas = 4, orejas = 2, ojos = 2, velocidad = 0):\n",
    "        self.raza = raza\n",
    "        self.pelo = pelo\n",
    "        self.duegno = duegno\n",
    "        self.patas = patas\n",
    "        self.orejas = orejas\n",
    "        self.velocidad = velocidad\n",
    "\n",
    "    def andar(self, aumento_velocidad):\n",
    "        self.velocidad = self.velocidad + aumento_velocidad\n",
    "        return self.velocidad\n",
    "\n",
    "    def parar(self):\n",
    "        self.velocidad = 0\n",
    "        return self.velocidad\n",
    "\n",
    "    def ladrar(self):\n",
    "        return 'GUAU!'"
   ]
  },
  {
   "cell_type": "code",
   "execution_count": 328,
   "metadata": {
    "scrolled": true
   },
   "outputs": [
    {
     "name": "stdout",
     "output_type": "stream",
     "text": [
      "labrador\n",
      "negro\n",
      "False\n",
      "4\n",
      "2\n",
      "0\n",
      "1\n",
      "0\n"
     ]
    }
   ],
   "source": [
    "# Crea un objeto de tipo Perro sin dueño\n",
    "labrador = Perro('labrador', pelo = 'negro')\n",
    "\n",
    "# Comprueba que están bien todos sus atributos\n",
    "print(labrador.raza)\n",
    "print(labrador.pelo)\n",
    "print(labrador.duegno)\n",
    "print(labrador.patas)\n",
    "print(labrador.orejas)\n",
    "print(labrador.velocidad)\n",
    "\n",
    "#Prueba que ande, y comprueba su velocidad\n",
    "labrador.andar(1)\n",
    "print(labrador.velocidad)\n",
    "\n",
    "labrador.parar()\n",
    "print(labrador.velocidad)"
   ]
  }
 ],
 "metadata": {
  "colab": {
   "provenance": []
  },
  "kernelspec": {
   "display_name": "Python 3 (ipykernel)",
   "language": "python",
   "name": "python3"
  },
  "language_info": {
   "codemirror_mode": {
    "name": "ipython",
    "version": 3
   },
   "file_extension": ".py",
   "mimetype": "text/x-python",
   "name": "python",
   "nbconvert_exporter": "python",
   "pygments_lexer": "ipython3",
   "version": "3.12.4"
  }
 },
 "nbformat": 4,
 "nbformat_minor": 4
}
