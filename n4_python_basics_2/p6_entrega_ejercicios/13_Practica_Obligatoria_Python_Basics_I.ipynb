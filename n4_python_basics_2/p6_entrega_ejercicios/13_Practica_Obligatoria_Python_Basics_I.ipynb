{
 "cells": [
  {
   "cell_type": "markdown",
   "metadata": {
    "id": "BNCAebJANPxq"
   },
   "source": [
    "![TheBridge_logo_RGB_color.jpg](attachment:TheBridge_logo_RGB_color.jpg)"
   ]
  },
  {
   "cell_type": "markdown",
   "metadata": {
    "id": "A9eDZvZaNPxs"
   },
   "source": [
    "![imagen](./img/ejercicios.png)"
   ]
  },
  {
   "cell_type": "markdown",
   "metadata": {
    "id": "59zPhBxXNPxs"
   },
   "source": [
    "## PRACTICA OBLIGATORIA: PYTHON"
   ]
  },
  {
   "cell_type": "markdown",
   "metadata": {
    "id": "mv2kb1GMNPxs"
   },
   "source": [
    "* La práctica obligatoria de esta unidad consiste en dos ejercicios de programación libre a completar.   \n",
    "* Recuerda que debes subirla a tu repositorio personal antes de la sesión en vivo para que puntúe adecuadamente.  \n",
    "* Recuerda también que no es necesario que esté perfecta, sólo es necesario que se vea el esfuerzo.\n",
    "* Esta práctica se resolverá en la sesión en vivo correspondiente y la solución se publicará en el repo del curso."
   ]
  },
  {
   "cell_type": "markdown",
   "metadata": {
    "id": "Kl9JzST2NPxt"
   },
   "source": [
    "![ejercicio.png](./img/ejercicio.png)\n",
    "## PARTE I\n",
    "\n",
    "En este ejercicio debes simular un chatbot al que le haremos pedidos de pizzas.\n",
    "\n",
    "1. El chatbot tiene que saludar con un: \"Buenas tardes, bienvenido al servicio de pedido online, el precio de nuestra pizzas es de 8,95 para la familiar o de 9,90 para la mediana ¿Cuántas pizzas  familiares desea?\"\n",
    "2. El ususario tiene que introducir un número de pizzas en una variable llamada 'pizz_familiar'\n",
    "3. El chatbot debe responder: \"Estupendo, ¿cuántas pizzas medianas desea?\" y guardar el número de pizzas medianas en otra variable 'pizz_mediana'\n",
    "4. Además debe responder del chatbot: \"Estupendo, se están preparando 'pizz' pizzas familiares y 'pizz_mediana' pizzas medianas. Digame su dirección\"\n",
    "5. El ususario tiene que introducir una direccion en formato String en otra variable llamada 'direcc'\n",
    "6. El programa debe calcular el monto total\n",
    "7. Respuesta final del chatbot: \"Le mandaremos las '(número total de pizzas)' pizzas a la dirección 'direcc'. Serán <precio total a pagar en euros>. Muchas gracias por su pedido.\"\n",
    "         \n"
   ]
  },
  {
   "cell_type": "code",
   "execution_count": 9,
   "metadata": {
    "id": "qkKibyt-NPxt"
   },
   "outputs": [
    {
     "name": "stdin",
     "output_type": "stream",
     "text": [
      "Buenas tardes, bienvenido al servicio de pedido online, el precio de nuestra pizzas /nes de 8,95 para la familiar o de 9,90 para la mediana ¿Cuántas pizzas familiares desea? 5\n",
      "Estupendo, ¿cuántas pizzas medianas desea? 5\n",
      "Estupendo, se están preparando 5 pizzas familiares y 5 pizzas medianas. Digame su dirección home\n"
     ]
    },
    {
     "name": "stdout",
     "output_type": "stream",
     "text": [
      "Le mandaremos las 10 pizzas a la dirección home. Serán . Muchas gracias por su pedido.\n"
     ]
    }
   ],
   "source": [
    "pizz_familiar = int(input('Buenas tardes, bienvenido al servicio de pedido online, el precio de nuestra pizzas /n'\n",
    "'es de 8,95 para la familiar o de 9,90 para la mediana ¿Cuántas pizzas familiares desea?'))\n",
    "pizz_mediana = int(input(\"Estupendo, ¿cuántas pizzas medianas desea?\"))\n",
    "direcc = input(f\"Estupendo, se están preparando {pizz_familiar} pizzas familiares y {pizz_mediana} pizzas medianas. Digame su dirección\")\n",
    "print(f\"Le mandaremos las {pizz_familiar + pizz_mediana} pizzas a la dirección {direcc}. Serán . Muchas gracias por su pedido.\")\n"
   ]
  },
  {
   "cell_type": "markdown",
   "metadata": {
    "id": "f0oqoGDGNPxt"
   },
   "source": [
    "![ejercicio.png](./img/ejercicio.png)\n",
    "## Parte II\n",
    "\n",
    "Crea un programa que realice las siguientes acciones:\n",
    "\n",
    "1. Solicite al usuario que introduzca 3 números enteros separados por comas (por ejemplo: 1,2,3).\n",
    "2. Convierta esa entrada en una lista de números enteros.\n",
    "3. Utilizando funciones built-in, determine el número máximo, el número mínimo y la suma total de los números introducidos.\n",
    "4. Determine la verdad o falsedad de la siguiente afirmación: \"El número máximo menos el número mínimo es igual a la suma total dividida por 5\".\n",
    "5. Muestre los resultados utilizando print."
   ]
  },
  {
   "cell_type": "code",
   "execution_count": 45,
   "metadata": {
    "id": "rAlpWiQ9NPxt"
   },
   "outputs": [
    {
     "name": "stdin",
     "output_type": "stream",
     "text": [
      "Please, input 3 whole numbers, separated by commas:  1, 3, 5\n"
     ]
    },
    {
     "name": "stdout",
     "output_type": "stream",
     "text": [
      "The maximum value is 5 and the minimum value is 1.\n",
      "Meanwhile, the sum of all the values you have input is 9.\n",
      "False: El número máximo menos el número mínimo no es igual a la suma total dividida por 5\n"
     ]
    }
   ],
   "source": [
    "# Get the input and split it into a list of numbers\n",
    "# map applies int to all of the input, but creates iterators (not values stored in memory), so list must be applied, in spite of .split\n",
    "numbers = list(map(int, input('Please, input 3 whole numbers, separated by commas: ').split(',')))\n",
    "maximum = max(numbers)\n",
    "minimum = min(numbers)\n",
    "total = sum(numbers)\n",
    "\n",
    "# Print the maximum, minimum, and sum\n",
    "print(f'The maximum value is {maximum} and the minimum value is {minimum}.\\n'\n",
    "      f'Meanwhile, the sum of all the values you have input is {total}.')\n",
    "\n",
    "#Determining true or false to the affirmacion, \"El número máximo menos el número mínimo es igual a la suma total dividida por 5\".\n",
    "if (maximum - minimum) == (total/5):\n",
    "    print(\"True: El número máximo menos el número mínimo es igual a la suma total dividida por 5\")\n",
    "else:\n",
    "    print(\"False: El número máximo menos el número mínimo no es igual a la suma total dividida por 5\")\n",
    "    "
   ]
  },
  {
   "cell_type": "code",
   "execution_count": null,
   "metadata": {},
   "outputs": [],
   "source": []
  }
 ],
 "metadata": {
  "colab": {
   "provenance": []
  },
  "kernelspec": {
   "display_name": "Python 3 (ipykernel)",
   "language": "python",
   "name": "python3"
  },
  "language_info": {
   "codemirror_mode": {
    "name": "ipython",
    "version": 3
   },
   "file_extension": ".py",
   "mimetype": "text/x-python",
   "name": "python",
   "nbconvert_exporter": "python",
   "pygments_lexer": "ipython3",
   "version": "3.12.4"
  }
 },
 "nbformat": 4,
 "nbformat_minor": 4
}
